{
 "cells": [
  {
   "cell_type": "code",
   "execution_count": 29,
   "metadata": {
    "slideshow": {
     "slide_type": "skip"
    }
   },
   "outputs": [],
   "source": [
    "import requests\n",
    "import json\n",
    "\n",
    "API = 'http://localhost:5000'\n",
    "session = requests.Session()"
   ]
  },
  {
   "cell_type": "markdown",
   "metadata": {
    "slideshow": {
     "slide_type": "slide"
    }
   },
   "source": [
    "# Building your own language in python\n",
    "\n",
    "<p style='text-align: right;'> David De Sousa - WeRiot </p>"
   ]
  },
  {
   "cell_type": "markdown",
   "metadata": {
    "slideshow": {
     "slide_type": "slide"
    }
   },
   "source": [
    "# What is a Domain Specific Language (DSL)\n",
    "\n",
    "# Advantages and Disadvantages\n",
    "\n",
    "# Why use a DSL "
   ]
  },
  {
   "cell_type": "markdown",
   "metadata": {
    "slideshow": {
     "slide_type": "slide"
    }
   },
   "source": [
    "# Real world DSLs you (may) use every day\n",
    "\n",
    "* HTML\n",
    "* CSS\n",
    "* LaTeX\n",
    "* SQL\n",
    "* Jinja"
   ]
  },
  {
   "cell_type": "markdown",
   "metadata": {
    "slideshow": {
     "slide_type": "slide"
    }
   },
   "source": [
    "# Coming next\n",
    "\n",
    "* Implementing a math endpoint \"the regular way\"\n",
    "* Implementing with a DSL\n",
    "* WeRiot use case\n",
    "* (maybe) Extending the DSL live!\n",
    "* Questions"
   ]
  },
  {
   "cell_type": "markdown",
   "metadata": {
    "slideshow": {
     "slide_type": "slide"
    }
   },
   "source": [
    "# Sample use case\n",
    "\n",
    "## Client requests a \"sum\" endpoint\n"
   ]
  },
  {
   "cell_type": "markdown",
   "metadata": {
    "slideshow": {
     "slide_type": "fragment"
    }
   },
   "source": [
    "```python\n",
    "@app.route('/sum')\n",
    "def sum():\n",
    "    # skip validations because reasons\n",
    "    a = float(request.args.get('param1'))\n",
    "    b = float(request.args.get('param2'))\n",
    "\n",
    "    return jsonify(result=a + b)\n",
    "```\n",
    "\n",
    "done!"
   ]
  },
  {
   "cell_type": "code",
   "execution_count": 30,
   "metadata": {
    "slideshow": {
     "slide_type": "subslide"
    }
   },
   "outputs": [
    {
     "name": "stdout",
     "output_type": "stream",
     "text": [
      "{\n",
      "  \"result\": 9.0\n",
      "}\n",
      "\n"
     ]
    }
   ],
   "source": [
    "params = (5, 4)\n",
    "\n",
    "resp = session.get(\n",
    "    f'{API}/sum', \n",
    "    params={'param1': params[0], 'param2': params[1]},\n",
    ")\n",
    "print(resp.text)"
   ]
  },
  {
   "cell_type": "markdown",
   "metadata": {
    "slideshow": {
     "slide_type": "slide"
    }
   },
   "source": [
    "# Sample use case\n",
    "\n",
    "#### \"Super awesome, but now I want to sum 3 elements\""
   ]
  },
  {
   "cell_type": "markdown",
   "metadata": {
    "slideshow": {
     "slide_type": "fragment"
    }
   },
   "source": [
    "* Add support in endpoint\n",
    "* Tell client to call API twice"
   ]
  },
  {
   "cell_type": "markdown",
   "metadata": {
    "slideshow": {
     "slide_type": "subslide"
    }
   },
   "source": [
    "```python\n",
    "@app.route('/sum2')\n",
    "def sum2():\n",
    "    # skip validations because reasons\n",
    "    a = float(request.args.get('param1'))\n",
    "    b = float(request.args.get('param2'))\n",
    "    c = 0\n",
    "\n",
    "    if 'param3' in request.args:\n",
    "        c = float(request.args.get('param3'))\n",
    "\n",
    "    return jsonify(result=a + b + c)\n",
    "```"
   ]
  },
  {
   "cell_type": "code",
   "execution_count": 31,
   "metadata": {
    "slideshow": {
     "slide_type": "subslide"
    }
   },
   "outputs": [
    {
     "name": "stdout",
     "output_type": "stream",
     "text": [
      "{\n",
      "  \"result\": 16.0\n",
      "}\n",
      "\n"
     ]
    }
   ],
   "source": [
    "params = (5, 4, 7)\n",
    "payload = {'param1': params[0], 'param2': params[1]}\n",
    "if len(params) > 2:\n",
    "    payload['param3'] = params[2]\n",
    "\n",
    "resp = session.get(\n",
    "    f'{API}/sum2', \n",
    "    params=payload,\n",
    ")\n",
    "print(resp.text)"
   ]
  },
  {
   "cell_type": "markdown",
   "metadata": {
    "slideshow": {
     "slide_type": "slide"
    }
   },
   "source": [
    "# Sample use case\n",
    "\n",
    "#### Client wants substraction"
   ]
  },
  {
   "cell_type": "markdown",
   "metadata": {
    "slideshow": {
     "slide_type": "fragment"
    }
   },
   "source": [
    "#### And division\n",
    "#### And multiplication\n",
    "#### All at the same time"
   ]
  },
  {
   "cell_type": "markdown",
   "metadata": {
    "slideshow": {
     "slide_type": "subslide"
    }
   },
   "source": [
    "# Sample use case\n",
    "\n",
    "## Let's use json!\n",
    "\n",
    "34 + (2 * 3)\n",
    "```json\n",
    "{\n",
    "\"operator\": \"+\",\n",
    "\"param1\": 34,\n",
    "\"param2\": {\n",
    "    \"operator\": \"*\",\n",
    "    \"param1\": 2,\n",
    "    \"param2\": 3 }\n",
    "}\n",
    "```"
   ]
  },
  {
   "cell_type": "markdown",
   "metadata": {
    "slideshow": {
     "slide_type": "subslide"
    }
   },
   "source": [
    "```python\n",
    "def process_operation(operation):\n",
    "    operators = {\n",
    "        '*': operator.mul,\n",
    "        '/': operator.truediv,\n",
    "        '+': operator.add,\n",
    "        '-': operator.sub\n",
    "    }\n",
    "\n",
    "    param1 = operation['param1']\n",
    "    param2 = operation['param2']\n",
    "    operator_function = operators[operation['operator']]\n",
    "\n",
    "    if type(param1) is dict:\n",
    "        param1 = process_operation(param1)\n",
    "\n",
    "    if type(param2) is dict:\n",
    "        param2 = process_operation(param2)\n",
    "\n",
    "    return operator_function(param1, param2)\n",
    "\n",
    "\n",
    "@app.route('/math')\n",
    "def math():\n",
    "    operation = json.loads(request.args.get('operation'))\n",
    "\n",
    "    return jsonify(result=process_operation(operation))\n",
    "```"
   ]
  },
  {
   "cell_type": "code",
   "execution_count": 32,
   "metadata": {
    "slideshow": {
     "slide_type": "subslide"
    }
   },
   "outputs": [
    {
     "name": "stdout",
     "output_type": "stream",
     "text": [
      "{\n",
      "  \"result\": 10.0\n",
      "}\n",
      "\n"
     ]
    }
   ],
   "source": [
    "operation = {  #  (6/3) * (7-2)\n",
    "    \"operator\": \"*\", \n",
    "    \"param1\": {\n",
    "        \"operator\": \"/\", \n",
    "        \"param1\": 6, \n",
    "        \"param2\": 3\n",
    "     }, \n",
    "     \"param2\": {\n",
    "         \"operator\": \"-\",\n",
    "         \"param1\": 7,\n",
    "         \"param2\": 2\n",
    "     }\n",
    "}\n",
    "\n",
    "payload = {\"operation\": json.dumps(operation)}\n",
    "resp = session.get(\n",
    "    f'{API}/math', \n",
    "    params=payload,\n",
    ")\n",
    "print(resp.text)"
   ]
  },
  {
   "cell_type": "markdown",
   "metadata": {
    "slideshow": {
     "slide_type": "slide"
    }
   },
   "source": [
    "# Sample use case\n",
    "\n",
    "* Solved!\n",
    "* Flexible API\n",
    "* One call can do all the calculations\n",
    "* Simple, right?"
   ]
  },
  {
   "cell_type": "markdown",
   "metadata": {
    "slideshow": {
     "slide_type": "subslide"
    }
   },
   "source": [
    "# Sample use case\n",
    "\n",
    "`((2 + (3 * 4) - 5) * 6) / 4`\n",
    "\n",
    "```json\n",
    "{\n",
    "    \"operator\": \"/\",\n",
    "    \"param1\": {\n",
    "        \"operator\": \"*\",\n",
    "        \"param1\": {\n",
    "            \"operator\": \"+\",\n",
    "            \"param1\": 2,\n",
    "            \"param2\": {\n",
    "                \"operator\": \"-\",\n",
    "                \"param1\": {\n",
    "                    \"operator\": \"*\",\n",
    "                    \"param1\": 3,\n",
    "                    \"param2\": 4\n",
    "                },\n",
    "                \"param2\": 5\n",
    "            }\n",
    "        },\n",
    "        \"param2\": 6\n",
    "    },\n",
    "    \"param2\": 4\n",
    "}\n",
    "```"
   ]
  },
  {
   "cell_type": "markdown",
   "metadata": {
    "slideshow": {
     "slide_type": "subslide"
    }
   },
   "source": [
    "# Client is now crying\n",
    "\n",
    "#### Could we do better?\n",
    "\n",
    "Which format would be easier for the user?"
   ]
  },
  {
   "cell_type": "markdown",
   "metadata": {
    "slideshow": {
     "slide_type": "subslide"
    }
   },
   "source": [
    "How about:\n",
    "\n",
    "`((2 + (3 * 4) - 5) * 6) / 4`"
   ]
  },
  {
   "cell_type": "markdown",
   "metadata": {
    "slideshow": {
     "slide_type": "slide"
    }
   },
   "source": [
    "# Your first DSL\n",
    "\n",
    "## Lexer\n",
    "\n",
    "Split every component of the language in tokens using regular expressions."
   ]
  },
  {
   "cell_type": "markdown",
   "metadata": {
    "slideshow": {
     "slide_type": "fragment"
    }
   },
   "source": [
    "```python\n",
    "from sly import Lexer, Parser\n",
    "from werkzeug import exceptions\n",
    "\n",
    "\n",
    "class CalcLexer(Lexer):\n",
    "    tokens = {NUMBER}\n",
    "    ignore = ' \\t\\n'\n",
    "    literals = {'+'}\n",
    "\n",
    "    @_(r'\\d+(\\.\\d+)?')\n",
    "    def NUMBER(self, t):\n",
    "        t.value = float(t.value)\n",
    "        return t\n",
    "\n",
    "    def error(self, t):\n",
    "        raise exceptions.BadRequest(f\"Illegal sequence '{t.value}'\")\n",
    "```"
   ]
  },
  {
   "cell_type": "markdown",
   "metadata": {
    "slideshow": {
     "slide_type": "subslide"
    }
   },
   "source": [
    "## Parser\n",
    "\n",
    "Use the tokens to define your language grammar"
   ]
  },
  {
   "cell_type": "markdown",
   "metadata": {
    "slideshow": {
     "slide_type": "subslide"
    }
   },
   "source": [
    "```python\n",
    "class CalcParser(Parser):\n",
    "    tokens = CalcLexer.tokens\n",
    "\n",
    "    def error(self, p):\n",
    "        if p is None:\n",
    "            raise exceptions.BadRequest(\"Syntax error, unexpected EOF\")\n",
    "        raise exceptions.BadRequest(\n",
    "            f\"Syntax error near '{p.value}', line={p.lineno} column={p.index}\")\n",
    "\n",
    "    @_('operation')\n",
    "    def statement(self, p):\n",
    "        return p.operation\n",
    "    \n",
    "    # operation : NUMBER\n",
    "    #           | NUMBER + NUMBER\n",
    "\n",
    "    @_('NUMBER')\n",
    "    def operation(self, p):\n",
    "        return p.NUMBER\n",
    "\n",
    "    @_('NUMBER \"+\" NUMBER')\n",
    "    def operation(self, p):\n",
    "        return p.NUMBER0 + p.NUMBER1\n",
    "```"
   ]
  },
  {
   "cell_type": "markdown",
   "metadata": {
    "slideshow": {
     "slide_type": "slide"
    }
   },
   "source": [
    "# Your first DSL\n",
    "\n",
    "## Sum with infinite params\n",
    "\n",
    "```python\n",
    "class CalcParser(Parser):\n",
    "    tokens = CalcLexer.tokens\n",
    "\n",
    "    def error(self, p):\n",
    "        if p is None:\n",
    "            raise exceptions.BadRequest(\"Syntax error, unexpected EOF\")\n",
    "        raise exceptions.BadRequest(\n",
    "            f\"Syntax error near '{p.value}', line={p.lineno} column={p.index}\")\n",
    "\n",
    "    @_('operation')\n",
    "    def statement(self, p):\n",
    "        return p.operation\n",
    "    \n",
    "    # operation : NUMBER                  (1)\n",
    "    #           | operation + operation   (2)\n",
    "\n",
    "    @_('NUMBER')\n",
    "    def operation(self, p):\n",
    "        return p.NUMBER\n",
    "\n",
    "    @_('operation \"+\" operation')\n",
    "    def operation(self, p):\n",
    "        return p.operation0 + p.operation1\n",
    "```"
   ]
  },
  {
   "cell_type": "markdown",
   "metadata": {
    "slideshow": {
     "slide_type": "subslide"
    }
   },
   "source": [
    "`WARNING: 1 shift/reduce conflicts`\n",
    "\n",
    "```\n",
    "operation : NUMBER                  (1)\n",
    "          | operation + operation   (2)\n",
    "```\n",
    "\n",
    "<p><img alt=\"Conflict explanation\" src=\"images/conflict.svg\" class=\"conflict-image\" /></p>"
   ]
  },
  {
   "cell_type": "markdown",
   "metadata": {
    "slideshow": {
     "slide_type": "subslide"
    }
   },
   "source": [
    "## Conflict Resolution\n",
    "\n",
    "```python\n",
    "class CalcParser(Parser):\n",
    "    tokens = CalcLexer.tokens\n",
    "\n",
    "    precedence = (\n",
    "        ('left', '+'),\n",
    "    )\n",
    "\n",
    "    def error(self, p):\n",
    "        if p is None:\n",
    "            raise exceptions.BadRequest(\"Syntax error, unexpected EOF\")\n",
    "        raise exceptions.BadRequest(\n",
    "            f\"Syntax error near '{p.value}', line={p.lineno} column={p.index}\")\n",
    "\n",
    "    @_('operation')\n",
    "    def statement(self, p):\n",
    "        return p.operation\n",
    "\n",
    "    @_('NUMBER')\n",
    "    def operation(self, p):\n",
    "        return p.NUMBER\n",
    "\n",
    "    @_('operation \"+\" operation')\n",
    "    def operation(self, p):\n",
    "        return p.operation0 + p.operation1\n",
    "```"
   ]
  },
  {
   "cell_type": "code",
   "execution_count": 33,
   "metadata": {
    "slideshow": {
     "slide_type": "subslide"
    }
   },
   "outputs": [
    {
     "name": "stdout",
     "output_type": "stream",
     "text": [
      "{\n",
      "  \"result\": 18.0\n",
      "}\n",
      "\n"
     ]
    }
   ],
   "source": [
    "payload = {\"operation\": '3 + 4 + 5 + 6'}\n",
    "resp = session.get(\n",
    "    f'{API}/math2', \n",
    "    params=payload,\n",
    ")\n",
    "print(resp.text)"
   ]
  },
  {
   "cell_type": "markdown",
   "metadata": {
    "slideshow": {
     "slide_type": "slide"
    }
   },
   "source": [
    "# Your first DSL\n",
    "\n",
    "### Complete Lexer\n",
    "\n",
    "```python\n",
    "class CalcLexer(Lexer):\n",
    "    tokens = {NUMBER}\n",
    "    ignore = ' \\t\\n'\n",
    "    literals = {'+', '-', '/', '*', '(', ')'}\n",
    "\n",
    "    @_(r'\\d+(\\.\\d+)?')\n",
    "    def NUMBER(self, t):\n",
    "        t.value = float(t.value)\n",
    "        return t\n",
    "\n",
    "    def error(self, t):\n",
    "        raise exceptions.BadRequest(f\"Illegal sequence '{t.value}'\")\n",
    "```"
   ]
  },
  {
   "cell_type": "markdown",
   "metadata": {
    "slideshow": {
     "slide_type": "subslide"
    }
   },
   "source": [
    "### Complete parser\n",
    "\n",
    "```python\n",
    "class CalcParser(Parser):\n",
    "    tokens = CalcLexer.tokens\n",
    "\n",
    "    precedence = (\n",
    "        ('left', '+', '-'),\n",
    "        ('left', '*', '/'),\n",
    "    )\n",
    "\n",
    "    def error(self, p):\n",
    "        if p is None:\n",
    "            raise exceptions.BadRequest(\"Syntax error, unexpected EOF\")\n",
    "        raise exceptions.BadRequest(\n",
    "            f\"Syntax error near '{p.value}', line={p.lineno} column={p.index}\")\n",
    "\n",
    "    @_('operation')\n",
    "    def statement(self, p):\n",
    "        return p.operation\n",
    "    \n",
    "    # operation : NUMBER\n",
    "    #           | ( operation )\n",
    "    #           | operation + operation\n",
    "    #           | operation - operation\n",
    "    #           | operation / operation\n",
    "    #           | operation * operation\n",
    "\n",
    "    @_('NUMBER')\n",
    "    def operation(self, p):\n",
    "        return p.NUMBER\n",
    "\n",
    "    @_('\"(\" operation \")\"')\n",
    "    def operation(self, p):\n",
    "        return p.operation\n",
    "\n",
    "    @_('operation \"+\" operation')\n",
    "    def operation(self, p):\n",
    "        return p.operation0 + p.operation1\n",
    "\n",
    "    @_('operation \"*\" operation')\n",
    "    def operation(self, p):\n",
    "        return p.operation0 * p.operation1\n",
    "\n",
    "    @_('operation \"/\" operation')\n",
    "    def operation(self, p):\n",
    "        return p.operation0 / p.operation1\n",
    "\n",
    "    @_('operation \"-\" operation')\n",
    "    def operation(self, p):\n",
    "        return p.operation0 - p.operation1\n",
    "```"
   ]
  },
  {
   "cell_type": "markdown",
   "metadata": {
    "slideshow": {
     "slide_type": "subslide"
    }
   },
   "source": [
    "### Same language, different implementation\n",
    "\n",
    "```python\n",
    "class CalcLexer(Lexer):\n",
    "    tokens = {NUMBER, PLUS, MINUS, DIVIDE, TIMES}\n",
    "    ignore = ' \\t\\n'\n",
    "    literals = {'(', ')'}\n",
    "\n",
    "    @_(r'\\d+(\\.\\d+)?')\n",
    "    def NUMBER(self, t):\n",
    "        t.value = float(t.value)\n",
    "        return t\n",
    "\n",
    "    @_(r'\\+')\n",
    "    def PLUS(self, t):\n",
    "        t.value = operator.add\n",
    "        return t\n",
    "\n",
    "    @_(r'-')\n",
    "    def MINUS(self, t):\n",
    "        t.value = operator.sub\n",
    "        return t\n",
    "\n",
    "    @_(r'/')\n",
    "    def DIVIDE(self, t):\n",
    "        t.value = operator.truediv\n",
    "        return t\n",
    "\n",
    "    @_(r'\\*')\n",
    "    def TIMES(self, t):\n",
    "        t.value = operator.mul\n",
    "        return t\n",
    "\n",
    "    def error(self, t):\n",
    "        raise exceptions.BadRequest(f\"Illegal sequence '{t.value}'\")\n",
    "```"
   ]
  },
  {
   "cell_type": "markdown",
   "metadata": {
    "slideshow": {
     "slide_type": "subslide"
    }
   },
   "source": [
    "```python\n",
    "class CalcParser(Parser):\n",
    "    tokens = CalcLexer.tokens\n",
    "\n",
    "    precedence = (\n",
    "        ('left', PLUS, MINUS),\n",
    "        ('left', DIVIDE, TIMES),\n",
    "    )\n",
    "\n",
    "    def error(self, p):\n",
    "        if p is None:\n",
    "            raise exceptions.BadRequest(\"Syntax error, unexpected EOF\")\n",
    "        raise exceptions.BadRequest(\n",
    "            f\"Syntax error near '{p.value}', line={p.lineno} column={p.index}\")\n",
    "\n",
    "    @_('operation')\n",
    "    def statement(self, p):\n",
    "        return p.operation\n",
    "    \n",
    "    # operation : NUMBER\n",
    "    #           | ( operation )\n",
    "    #           | operation PLUS operation\n",
    "    #           | operation MINUS operation\n",
    "    #           | operation TIMES operation\n",
    "    #           | operation DIVIDE operation\n",
    "\n",
    "    @_('NUMBER')\n",
    "    def operation(self, p):\n",
    "        return p.NUMBER\n",
    "\n",
    "    @_('\"(\" operation \")\"')\n",
    "    def operation(self, p):\n",
    "        return p.operation\n",
    "\n",
    "    @_(\n",
    "        'operation PLUS operation',\n",
    "        'operation MINUS operation',\n",
    "        'operation TIMES operation',\n",
    "        'operation DIVIDE operation',\n",
    "    )\n",
    "    def operation(self, p):\n",
    "        return p[1](p.operation0, p.operation1)\n",
    "```"
   ]
  },
  {
   "cell_type": "markdown",
   "metadata": {
    "slideshow": {
     "slide_type": "slide"
    }
   },
   "source": [
    "# Client is now crying (of happiness)"
   ]
  },
  {
   "cell_type": "code",
   "execution_count": 34,
   "metadata": {
    "slideshow": {
     "slide_type": "fragment"
    }
   },
   "outputs": [
    {
     "name": "stdout",
     "output_type": "stream",
     "text": [
      "{\n",
      "  \"result\": 5.0\n",
      "}\n",
      "\n"
     ]
    }
   ],
   "source": [
    "payload = {\"operation\": '((2 + (3 * 4) - 4) * 2) / 4'}\n",
    "resp = session.get(\n",
    "    f'{API}/math2', \n",
    "    params=payload,\n",
    ")\n",
    "print(resp.text)"
   ]
  },
  {
   "cell_type": "markdown",
   "metadata": {
    "slideshow": {
     "slide_type": "slide"
    }
   },
   "source": [
    "# WeRiot Cella Query Language\n",
    "\n",
    "### Cella\n",
    "\n",
    "* Generic REST storage for JSON objects\n",
    "* Filtering\n",
    "* Aggregations\n",
    "* JOINs based on object contents\n",
    "* Time series queries support\n",
    "\n",
    "```bash\n",
    "curl http://cella/events/sample1 -d '{\"data\": {\"temperature\": 45, \"sensor\": \"A\"}}'\n",
    "curl http://cella/events/sample1 -d '{\"data\": {\"temperature\": 60, \"sensor\": \"B\"}}'\n",
    "curl http://cella/events/sample1 -d '{\"data\": {\"temperature\": 40, \"sensor\": \"A\"}}'\n",
    "curl http://cella/events/sample1 -d '{\"data\": {\"temperature\": 40, \"sensor\": \"A\"}}'\n",
    "```\n",
    "\n"
   ]
  },
  {
   "cell_type": "markdown",
   "metadata": {
    "slideshow": {
     "slide_type": "subslide"
    }
   },
   "source": [
    "#### Querying\n",
    "`http://cella/objects/query?query='<WCQL>'`\n",
    "\n",
    "##### filter based on values:\n",
    "```\n",
    "from(\"sample1\") where(data.sensor == 'A')\n",
    "\n",
    "from(\"sample1\") where(data.sensor in ['A', 'B'] and data.temperature > 40)\n",
    "```\n",
    "\n",
    "##### aggregations:\n",
    "```\n",
    "from(\"sample1\") aggregate(avg(data.temperature)) group(data.sensor)\n",
    "\n",
    "from(\"sample1\") aggregate(avg(data.temperature)) group(data.sensor) timebucket('00:10:00')\n",
    "```\n"
   ]
  },
  {
   "cell_type": "markdown",
   "metadata": {
    "slideshow": {
     "slide_type": "subslide"
    }
   },
   "source": [
    "##### multiple atomic inserts\n",
    "```\n",
    "insert(\"profiles\") '{\"id\": \"test1\", \"data\": {\"name\": \"john\"}}';\n",
    "insert(\"profiles\") '{\"id\": \"test2\", \"data\": {\"name\": \"joe\"}}';\n",
    "insert(\"profiles\") '{\"id\": \"test3\", \"data\": {\"name\": \"david\"}}';\n",
    "insert(\"groups\") '{\"id\": \"agroup\", \"data\": {\"name\": \"mygroup\"}}';\n",
    "insert(\"group_members\") '{\"data\": {\"profile\": \"test1\", \"group\": \"agroup\"}}';\n",
    "insert(\"group_members\") '{\"data\": {\"profile\": \"test2\", \"group\": \"agroup\"}}';\n",
    "insert(\"group_members\") '{\"data\": {\"profile\": \"test3\", \"group\": \"agroup\"}}'\n",
    "```\n",
    "\n",
    "##### JOINs:\n",
    "```\n",
    "from(\"profiles\") where(id in (\n",
    "    from(\"group_members\") select(data.profile) where(data.name == 'mygroup')\n",
    "    )\n",
    ")\n",
    "```"
   ]
  },
  {
   "cell_type": "markdown",
   "metadata": {
    "slideshow": {
     "slide_type": "slide"
    }
   },
   "source": [
    "# Add cosine function to the DSL"
   ]
  },
  {
   "cell_type": "markdown",
   "metadata": {
    "slideshow": {
     "slide_type": "slide"
    }
   },
   "source": [
    "# Where to go from here\n",
    "\n",
    "* slides and sample code https://github.com/dedsm/dsl_python\n",
    "* SLY author giving a better talk than this one https://youtu.be/zJ9z6Ge-vXs\n",
    "* SLY homepage https://sly.readthedocs.io/en/latest/\n",
    "* Book with all the theory https://en.wikipedia.org/wiki/Compilers:_Principles,_Techniques,_and_Tools"
   ]
  },
  {
   "cell_type": "markdown",
   "metadata": {
    "slideshow": {
     "slide_type": "slide"
    }
   },
   "source": [
    "# Thanks"
   ]
  }
 ],
 "metadata": {
  "celltoolbar": "Slideshow",
  "kernelspec": {
   "display_name": "Python 3",
   "language": "python",
   "name": "python3"
  },
  "language_info": {
   "codemirror_mode": {
    "name": "ipython",
    "version": 3
   },
   "file_extension": ".py",
   "mimetype": "text/x-python",
   "name": "python",
   "nbconvert_exporter": "python",
   "pygments_lexer": "ipython3",
   "version": "3.7.3"
  }
 },
 "nbformat": 4,
 "nbformat_minor": 2
}

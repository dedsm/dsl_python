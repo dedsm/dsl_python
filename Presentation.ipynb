{
 "cells": [
  {
   "cell_type": "code",
   "execution_count": null,
   "metadata": {
    "slideshow": {
     "slide_type": "skip"
    }
   },
   "outputs": [],
   "source": [
    "import requests\n",
    "import json\n",
    "\n",
    "API = 'http://localhost:5000'\n",
    "session = requests.Session()"
   ]
  },
  {
   "cell_type": "markdown",
   "metadata": {
    "slideshow": {
     "slide_type": "slide"
    }
   },
   "source": [
    "# Building your own language in python\n",
    "\n",
    "<p style='text-align: right;'> David De Sousa - WeRiot </p>"
   ]
  },
  {
   "cell_type": "markdown",
   "metadata": {
    "slideshow": {
     "slide_type": "slide"
    }
   },
   "source": [
    "# What is a Domain Specific Language (DSL)\n",
    "\n",
    "# Advantages and Disadvantages\n",
    "\n",
    "# Why use a DSL "
   ]
  },
  {
   "cell_type": "markdown",
   "metadata": {
    "slideshow": {
     "slide_type": "slide"
    }
   },
   "source": [
    "# Real world DSLs you (may) use every day\n",
    "\n",
    "* HTML\n",
    "* CSS\n",
    "* LaTeX\n",
    "* SQL\n",
    "* Jinja"
   ]
  },
  {
   "cell_type": "markdown",
   "metadata": {
    "slideshow": {
     "slide_type": "slide"
    }
   },
   "source": [
    "# Sample use case\n",
    "\n",
    "## Client requests a \"sum\" endpoint\n"
   ]
  },
  {
   "cell_type": "markdown",
   "metadata": {
    "slideshow": {
     "slide_type": "fragment"
    }
   },
   "source": [
    "```python\n",
    "@app.route('/sum')\n",
    "def sum():\n",
    "    # skip validations because reasons\n",
    "    a = float(request.args.get('param1'))\n",
    "    b = float(request.args.get('param2'))\n",
    "\n",
    "    return jsonify(result=a + b)\n",
    "```\n",
    "\n",
    "done!"
   ]
  },
  {
   "cell_type": "code",
   "execution_count": null,
   "metadata": {
    "slideshow": {
     "slide_type": "subslide"
    }
   },
   "outputs": [],
   "source": [
    "params = (5, 4)\n",
    "\n",
    "resp = session.get(\n",
    "    f'{API}/sum', \n",
    "    params={'param1': params[0], 'param2': params[1]},\n",
    ")\n",
    "print(resp.json())"
   ]
  },
  {
   "cell_type": "markdown",
   "metadata": {
    "slideshow": {
     "slide_type": "slide"
    }
   },
   "source": [
    "# Sample use case\n",
    "\n",
    "#### \"Super awesome, but now I want to sum 3 elements\""
   ]
  },
  {
   "cell_type": "markdown",
   "metadata": {
    "slideshow": {
     "slide_type": "fragment"
    }
   },
   "source": [
    "* Add support in endpoint\n",
    "* Tell client to call API twice"
   ]
  },
  {
   "cell_type": "markdown",
   "metadata": {
    "slideshow": {
     "slide_type": "subslide"
    }
   },
   "source": [
    "```python\n",
    "@app.route('/sum2')\n",
    "def sum2():\n",
    "    # skip validations because reasons\n",
    "    a = float(request.args.get('param1'))\n",
    "    b = float(request.args.get('param2'))\n",
    "    c = 0\n",
    "\n",
    "    if 'param3' in request.args:\n",
    "        c = float(request.args.get('param3'))\n",
    "\n",
    "    return jsonify(result=a + b + c)\n",
    "```"
   ]
  },
  {
   "cell_type": "code",
   "execution_count": null,
   "metadata": {
    "slideshow": {
     "slide_type": "subslide"
    }
   },
   "outputs": [],
   "source": [
    "params = (5, 4, 7)\n",
    "payload = {'param1': params[0], 'param2': params[1]}\n",
    "if len(params) > 2:\n",
    "    payload['param3'] = params[2]\n",
    "\n",
    "resp = session.get(\n",
    "    f'{API}/sum2', \n",
    "    params=payload,\n",
    ")\n",
    "print(resp.json())"
   ]
  },
  {
   "cell_type": "markdown",
   "metadata": {
    "slideshow": {
     "slide_type": "slide"
    }
   },
   "source": [
    "# Sample use case\n",
    "\n",
    "#### Client wants substraction"
   ]
  },
  {
   "cell_type": "markdown",
   "metadata": {
    "slideshow": {
     "slide_type": "fragment"
    }
   },
   "source": [
    "#### And division\n",
    "#### And multiplication\n",
    "#### All at the same time"
   ]
  },
  {
   "cell_type": "markdown",
   "metadata": {
    "slideshow": {
     "slide_type": "subslide"
    }
   },
   "source": [
    "# Sample use case\n",
    "\n",
    "## Let's use json!\n",
    "\n",
    "34 + (2 * 3)\n",
    "```json\n",
    "{\n",
    "\"operator\": \"+\",\n",
    "\"param1\": 34,\n",
    "\"param2\": {\n",
    "    \"operator\": \"*\",\n",
    "    \"param1\": 2,\n",
    "    \"param2\": 3 }\n",
    "}\n",
    "```"
   ]
  },
  {
   "cell_type": "markdown",
   "metadata": {
    "slideshow": {
     "slide_type": "subslide"
    }
   },
   "source": [
    "```python\n",
    "def process_operation(operation):\n",
    "    operators = {\n",
    "        '*': operator.mul,\n",
    "        '/': operator.truediv,\n",
    "        '+': operator.add,\n",
    "        '-': operator.sub\n",
    "    }\n",
    "\n",
    "    param1 = operation['param1']\n",
    "    param2 = operation['param2']\n",
    "    operator_function = operators[operation['operator']]\n",
    "\n",
    "    if type(param1) is dict:\n",
    "        param1 = process_operation(param1)\n",
    "\n",
    "    if type(param2) is dict:\n",
    "        param2 = process_operation(param2)\n",
    "\n",
    "    return operator_function(param1, param2)\n",
    "\n",
    "\n",
    "@app.route('/math')\n",
    "def math():\n",
    "    operation = json.loads(request.args.get('operation'))\n",
    "\n",
    "    return jsonify(result=process_operation(operation))\n",
    "```"
   ]
  },
  {
   "cell_type": "code",
   "execution_count": null,
   "metadata": {
    "slideshow": {
     "slide_type": "subslide"
    }
   },
   "outputs": [],
   "source": [
    "operation = {  #  (6/3) * (7-2)\n",
    "    \"operator\": \"*\", \n",
    "    \"param1\": {\n",
    "        \"operator\": \"/\", \n",
    "        \"param1\": 6, \n",
    "        \"param2\": 3\n",
    "     }, \n",
    "     \"param2\": {\n",
    "         \"operator\": \"-\",\n",
    "         \"param1\": 7,\n",
    "         \"param2\": 2\n",
    "     }\n",
    "}\n",
    "\n",
    "payload = {\"operation\": json.dumps(operation)}\n",
    "resp = session.get(\n",
    "    f'{API}/math', \n",
    "    params=payload,\n",
    ")\n",
    "print(resp.json())"
   ]
  },
  {
   "cell_type": "markdown",
   "metadata": {
    "slideshow": {
     "slide_type": "slide"
    }
   },
   "source": [
    "# Sample use case\n",
    "\n",
    "* Solved!\n",
    "* Flexible API\n",
    "* One call can do all the calculations\n",
    "* Simple, right?"
   ]
  },
  {
   "cell_type": "markdown",
   "metadata": {
    "slideshow": {
     "slide_type": "subslide"
    }
   },
   "source": [
    "# Sample use case\n",
    "\n",
    "`((2 + (3 * 4) - 5) * 6) / 4`\n",
    "\n",
    "```json\n",
    "{\n",
    "    \"operator\": \"/\",\n",
    "    \"param1\": {\n",
    "        \"operator\": \"*\",\n",
    "        \"param1\": {\n",
    "            \"operator\": \"+\",\n",
    "            \"param1\": 2,\n",
    "            \"param2\": {\n",
    "                \"operator\": \"-\",\n",
    "                \"param1\": {\n",
    "                    \"operator\": \"*\",\n",
    "                    \"param1\": 3,\n",
    "                    \"param2\": 4\n",
    "                },\n",
    "                \"param2\": 5\n",
    "            }\n",
    "        },\n",
    "        \"param2\": 6\n",
    "    },\n",
    "    \"param2\": 4\n",
    "}\n",
    "```"
   ]
  },
  {
   "cell_type": "markdown",
   "metadata": {
    "slideshow": {
     "slide_type": "subslide"
    }
   },
   "source": [
    "# Client is now crying\n",
    "\n",
    "#### Could we do better?\n",
    "\n",
    "Which format would be easier for the user?"
   ]
  },
  {
   "cell_type": "markdown",
   "metadata": {
    "slideshow": {
     "slide_type": "subslide"
    }
   },
   "source": [
    "How about:\n",
    "\n",
    "`((2 + (3 * 4) - 5) * 6) / 4`"
   ]
  },
  {
   "cell_type": "markdown",
   "metadata": {
    "slideshow": {
     "slide_type": "slide"
    }
   },
   "source": [
    "# Your"
   ]
  }
 ],
 "metadata": {
  "celltoolbar": "Slideshow",
  "kernelspec": {
   "display_name": "Python 3",
   "language": "python",
   "name": "python3"
  },
  "language_info": {
   "codemirror_mode": {
    "name": "ipython",
    "version": 3
   },
   "file_extension": ".py",
   "mimetype": "text/x-python",
   "name": "python",
   "nbconvert_exporter": "python",
   "pygments_lexer": "ipython3",
   "version": "3.7.3"
  }
 },
 "nbformat": 4,
 "nbformat_minor": 2
}
